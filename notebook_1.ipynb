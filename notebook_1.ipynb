{
  "cells": [
    {
      "cell_type": "markdown",
      "metadata": {},
      "source": [
        "# Data Science Assignment - Sonu Kumar\n",
        "This notebook downloads datasets from Google Drive and performs analysis."
      ]
    },
    {
      "cell_type": "code",
      "metadata": {},
      "source": [
        "import os, subprocess, sys\n",
        "import pandas as pd\n",
        "\n",
        "def download_from_gdrive(file_id, out_name):\n",
        "    try:\n",
        "        import gdown\n",
        "    except Exception:\n",
        "        subprocess.run([sys.executable, '-m', 'pip', 'install', '--upgrade', 'gdown'], check=True)\n",
        "    subprocess.run(['gdown', '--id', file_id, '-O', out_name], check=True)\n",
        "\n",
        "HIST_FILE_ID = '18vFwmqYxORcgR8N1Ya2O6Tb4HctNBEIF'\n",
        "SENT_FILE_ID = '1zYOX0JVCum43fmTfjd4LLe_4s31NHYXw'\n",
        "\n",
        "hist_fname = 'historical_data.csv'\n",
        "sent_fname = 'fear_greed_index.csv'\n",
        "\n",
        "if not os.path.exists(hist_fname):\n",
        "    print('Downloading historical_data.csv...')\n",
        "    download_from_gdrive(HIST_FILE_ID, hist_fname)\n",
        "if not os.path.exists(sent_fname):\n",
        "    print('Downloading fear_greed_index.csv...')\n",
        "    download_from_gdrive(SENT_FILE_ID, sent_fname)\n",
        "\n",
        "trader = pd.read_csv(hist_fname, low_memory=False)\n",
        "sent = pd.read_csv(sent_fname, low_memory=False)\n",
        "print('Trader shape:', trader.shape)\n",
        "print('Sentiment shape:', sent.shape)\n",
        "trader.head()\n"
      ],
      "outputs": []
    }
  ],
  "metadata": {
    "kernelspec": {
      "name": "python3"
    },
    "language_info": {
      "name": "python"
    }
  },
  "nbformat": 4,
  "nbformat_minor": 2
}